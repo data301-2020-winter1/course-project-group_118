{
 "cells": [
  {
   "cell_type": "code",
   "execution_count": 5,
   "metadata": {},
   "outputs": [],
   "source": [
    "import pandas as pd\n",
    "\n",
    "def load_and_process(url):\n",
    "    data = pd.read_csv(url)\n",
    "    df = pd.DataFrame(data)\n",
    "    df2 = df.dropna().drop(['goals_away', 'goals_home', 'game_id'], axis = 1).rename(columns={'dateTime':'date'}).sort_values('play_num').reset_index()\n",
    "    return df2\n",
    "url = 'https://raw.githubusercontent.com/data301-2020-winter1/course-project-group_118/main/data/raw/plays.csv?token=AMF4C2DNCUWGSSNSYO2WBLS7Y2N6K'\n",
    "df = load_and_process(url)"
   ]
  },
  {
   "cell_type": "code",
   "execution_count": null,
   "metadata": {},
   "outputs": [],
   "source": []
  }
 ],
 "metadata": {
  "kernelspec": {
   "display_name": "Python 3",
   "language": "python",
   "name": "python3"
  },
  "language_info": {
   "codemirror_mode": {
    "name": "ipython",
    "version": 3
   },
   "file_extension": ".py",
   "mimetype": "text/x-python",
   "name": "python",
   "nbconvert_exporter": "python",
   "pygments_lexer": "ipython3",
   "version": "3.8.3"
  }
 },
 "nbformat": 4,
 "nbformat_minor": 4
}
