{
 "cells": [
  {
   "cell_type": "code",
   "execution_count": 7,
   "metadata": {},
   "outputs": [
    {
     "name": "stdout",
     "output_type": "stream",
     "text": [
      "        index         play_id  play_num  team_id_for  team_id_against event  \\\n",
      "0           3    2010020316_5         5         19.0             18.0  Goal   \n",
      "1       66224    2018021106_5         5         12.0              7.0  Shot   \n",
      "2       65585    2018021110_5         5         28.0             18.0  Shot   \n",
      "3       62341    2018021098_5         5          1.0             23.0  Shot   \n",
      "4       61718    2018021100_5         5         17.0              2.0  Shot   \n",
      "...       ...             ...       ...          ...              ...   ...   \n",
      "30299  142923  2018030237_472       472         19.0             25.0  Goal   \n",
      "30300  135091  2018030156_473       473         18.0             25.0  Shot   \n",
      "30301  136373  2018030137_475       475         12.0             15.0  Goal   \n",
      "30302  135096  2018030156_478       478         18.0             25.0  Shot   \n",
      "30303  135105  2018030156_487       487         25.0             18.0  Goal   \n",
      "\n",
      "      secondaryType     x     y  period periodType  periodTime  \\\n",
      "0        Wrist Shot  69.0  16.0       1    REGULAR           9   \n",
      "1         Snap Shot   1.0  -6.0       1    REGULAR           3   \n",
      "2        Wrist Shot  72.0  -2.0       1    REGULAR          41   \n",
      "3        Wrist Shot  39.0 -39.0       1    REGULAR          30   \n",
      "4        Wrist Shot -10.0   3.0       1    REGULAR          43   \n",
      "...             ...   ...   ...     ...        ...         ...   \n",
      "30299    Wrist Shot  75.0  -8.0       5   OVERTIME         350   \n",
      "30300    Wrist Shot -65.0  14.0       4   OVERTIME         849   \n",
      "30301        Tip-In  82.0   1.0       5   OVERTIME         665   \n",
      "30302    Wrist Shot -51.0  28.0       4   OVERTIME         946   \n",
      "30303    Wrist Shot  52.0  21.0       4   OVERTIME        1022   \n",
      "\n",
      "       periodTimeRemaining                 date  \\\n",
      "0                     1191  2010-11-25 01:10:41   \n",
      "1                     1197  2019-03-16 23:08:25   \n",
      "2                     1159  2019-03-17 02:39:11   \n",
      "3                     1170  2019-03-16 02:08:38   \n",
      "4                     1157  2019-03-16 17:09:44   \n",
      "...                    ...                  ...   \n",
      "30299                  850  2019-05-08 03:58:02   \n",
      "30300                  351  2019-04-23 03:50:43   \n",
      "30301                  535  2019-04-25 03:30:05   \n",
      "30302                  254  2019-04-23 03:52:53   \n",
      "30303                  178  2019-04-23 03:54:44   \n",
      "\n",
      "                                             description  st_x  st_y rink_side  \n",
      "0      Andy McDonald (6) Wrist Shot, assists: Alex Pi...  69.0  16.0     right  \n",
      "1          Jordan Staal Snap Shot saved by Linus Ullmark  -1.0   6.0     right  \n",
      "2            Tomas Hertl Wrist Shot saved by Juuse Saros  72.0  -2.0      left  \n",
      "3      Damon Severson Wrist Shot saved by Jacob Marks...  39.0 -39.0      left  \n",
      "4      Andreas Athanasiou Wrist Shot saved by Thomas ...  10.0  -3.0     right  \n",
      "...                                                  ...   ...   ...       ...  \n",
      "30299  Pat Maroon (3) Wrist Shot, assists: Robert Tho...  75.0  -8.0      left  \n",
      "30300    Viktor Arvidsson Wrist Shot saved by Ben Bishop  65.0 -14.0     right  \n",
      "30301  Brock McGinn (2) Tip-In, assists: Justin Willi... -30.0   1.0      left  \n",
      "30302         Kyle Turris Wrist Shot saved by Ben Bishop  51.0 -28.0     right  \n",
      "30303  John Klingberg (1) Wrist Shot, assists: Alexan...  71.0  21.0      left  \n",
      "\n",
      "[30304 rows x 18 columns]\n"
     ]
    }
   ],
   "source": [
    "import pandas as pd\n",
    "\n",
    "data = pd.read_csv('https://raw.githubusercontent.com/data301-2020-winter1/course-project-group_118/main/data/raw/plays.csv?token=AMF4C2DNCUWGSSNSYO2WBLS7Y2N6K')\n",
    "df = pd.DataFrame(data)\n",
    "df2 = df.dropna().drop(['goals_away', 'goals_home', 'game_id'], axis = 1).rename(columns={'dateTime':'date'}).sort_values('play_num').reset_index()\n",
    "print(df2)"
   ]
  },
  {
   "cell_type": "code",
   "execution_count": null,
   "metadata": {},
   "outputs": [],
   "source": []
  },
  {
   "cell_type": "code",
   "execution_count": null,
   "metadata": {},
   "outputs": [],
   "source": []
  },
  {
   "cell_type": "code",
   "execution_count": null,
   "metadata": {},
   "outputs": [],
   "source": []
  }
 ],
 "metadata": {
  "kernelspec": {
   "display_name": "Python 3",
   "language": "python",
   "name": "python3"
  },
  "language_info": {
   "codemirror_mode": {
    "name": "ipython",
    "version": 3
   },
   "file_extension": ".py",
   "mimetype": "text/x-python",
   "name": "python",
   "nbconvert_exporter": "python",
   "pygments_lexer": "ipython3",
   "version": "3.8.3"
  }
 },
 "nbformat": 4,
 "nbformat_minor": 4
}
